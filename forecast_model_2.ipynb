{
 "cells": [
  {
   "cell_type": "code",
   "execution_count": 2,
   "metadata": {},
   "outputs": [],
   "source": [
    "import pandas as pd\n",
    "import numpy as np\n",
    "from sklearn.linear_model import LinearRegression\n",
    "from sklearn.preprocessing import OneHotEncoder\n",
    "from sklearn.compose import ColumnTransformer\n",
    "from datetime import datetime"
   ]
  },
  {
   "cell_type": "code",
   "execution_count": 3,
   "metadata": {},
   "outputs": [],
   "source": [
    "# Load the data\n",
    "df = pd.read_csv('sales_data_trim.csv')\n",
    "\n",
    "# Convert purchase_date to datetime\n",
    "df['purchase_date'] = pd.to_datetime(df['purchase_date'], format='%d/%m/%Y %H:%M')\n",
    "\n",
    "# Calculate total sales for each order\n",
    "df['total_sales'] = df['purchase_qty'] * df['sales_price']\n",
    "\n",
    "# Filter out records with material_code starting with '9'\n",
    "df = df[~df['material_code'].astype(str).str.startswith('9')]"
   ]
  },
  {
   "cell_type": "code",
   "execution_count": 4,
   "metadata": {},
   "outputs": [],
   "source": [
    "# Group by date and model, summing up total sales and quantity\n",
    "daily_sales = df.groupby([df['purchase_date'].dt.date, 'model']).agg({\n",
    "    'total_sales': 'sum',\n",
    "    'purchase_qty': 'sum',\n",
    "    'sales_price': 'mean'  # Using mean price for each product per day\n",
    "}).reset_index()"
   ]
  },
  {
   "cell_type": "code",
   "execution_count": null,
   "metadata": {},
   "outputs": [],
   "source": [
    "# Prepare features for regression\n",
    "X = daily_sales[['model', 'sales_price']]\n",
    "y = daily_sales['total_sales']\n",
    "\n",
    "# One-hot encode the 'model' column\n",
    "ct = ColumnTransformer([('encoder', OneHotEncoder(drop='first'), ['model'])], remainder='passthrough')\n",
    "X_encoded = ct.fit_transform(X)\n",
    "\n",
    "# Create and fit the linear regression model\n",
    "model = LinearRegression()\n",
    "model.fit(X_encoded, y)"
   ]
  },
  {
   "cell_type": "code",
   "execution_count": 3,
   "metadata": {},
   "outputs": [
    {
     "name": "stdout",
     "output_type": "stream",
     "text": [
      "Best combination of products and prices:\n",
      "HD15#HD15: $10300.00\n",
      "SV47#SV47: $3500.00\n",
      "HP00#HP00: $1700.00\n",
      "SV03#SV03: $4700.00\n",
      "AM07#AM07: $8000.00\n",
      "Predicted total sales: $132101.66\n"
     ]
    }
   ],
   "source": [
    "# Function to predict total sales for a given combination\n",
    "def predict_sales(models, prices):\n",
    "    X_pred = pd.DataFrame({'model': models, 'sales_price': prices})\n",
    "    X_pred_encoded = ct.transform(X_pred)\n",
    "    return model.predict(X_pred_encoded)"
   ]
  },
  {
   "cell_type": "code",
   "execution_count": null,
   "metadata": {},
   "outputs": [],
   "source": [
    "# Get unique products and their max prices\n",
    "unique_products = df.groupby('model')['sales_price'].max().reset_index()\n",
    "unique_products = dict(zip(unique_products['model'], unique_products['sales_price']))"
   ]
  },
  {
   "cell_type": "code",
   "execution_count": null,
   "metadata": {},
   "outputs": [],
   "source": [
    "# Calculate the daily average count of different products in 2024\n",
    "df_2024 = df[df['purchase_date'].dt.year == 2024]\n",
    "daily_product_count = df_2024.groupby(df_2024['purchase_date'].dt.date)['model'].nunique().mean()\n",
    "daily_product_count = int(round(daily_product_count))"
   ]
  },
  {
   "cell_type": "code",
   "execution_count": null,
   "metadata": {},
   "outputs": [],
   "source": [
    "best_combination = None\n",
    "best_sales = 0\n",
    "\n",
    "for _ in range(10000):  # Increased iterations for better results\n",
    "    selected_models = np.random.choice(list(unique_products.keys()), size=daily_product_count, replace=False)\n",
    "    selected_prices = [unique_products[model] for model in selected_models]\n",
    "    \n",
    "    predicted_sales = predict_sales(selected_models, selected_prices)\n",
    "    \n",
    "    if predicted_sales > best_sales:\n",
    "        best_sales = predicted_sales\n",
    "        best_combination = list(zip(selected_models, selected_prices))\n",
    "\n",
    "print(\"Best combination of products and prices:\")\n",
    "for model, price in best_combination:\n",
    "    print(f\"{model}: ${price:.2f}\")\n",
    "print(f\"Predicted total sales: ${best_sales[0]:.2f}\")"
   ]
  }
 ],
 "metadata": {
  "kernelspec": {
   "display_name": "Python 3",
   "language": "python",
   "name": "python3"
  },
  "language_info": {
   "codemirror_mode": {
    "name": "ipython",
    "version": 3
   },
   "file_extension": ".py",
   "mimetype": "text/x-python",
   "name": "python",
   "nbconvert_exporter": "python",
   "pygments_lexer": "ipython3",
   "version": "3.12.6"
  }
 },
 "nbformat": 4,
 "nbformat_minor": 2
}
