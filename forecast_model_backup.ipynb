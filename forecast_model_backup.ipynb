{
 "cells": [
  {
   "cell_type": "code",
   "execution_count": null,
   "metadata": {},
   "outputs": [],
   "source": [
    "# def make_unique(columns):\n",
    "#     seen = set()\n",
    "#     for item in columns:\n",
    "#         fudge = 1\n",
    "#         newitem = item\n",
    "#         while newitem in seen:\n",
    "#             fudge += 1\n",
    "#             newitem = \"{}_{}\".format(item, fudge)\n",
    "#         yield newitem\n",
    "#         seen.add(newitem)"
   ]
  },
  {
   "cell_type": "code",
   "execution_count": null,
   "metadata": {},
   "outputs": [],
   "source": [
    "# def process_df(df, name):\n",
    "#     print(f\"\\nProcessing {name} dataset:\")\n",
    "#     print(f\"Initial shape: {df.shape}\")\n",
    "    \n",
    "#     # Group by date and category\n",
    "#     df_grouped = df.groupby(['purchase_date', 'category']).agg({\n",
    "#         'purchase_qty': 'sum',\n",
    "#         'sales_price': 'sum'\n",
    "#     }).reset_index()\n",
    "    \n",
    "#     # Pivot the data to create separate columns for each category\n",
    "#     df_pivot = df_grouped.pivot(index='purchase_date', columns='category', \n",
    "#                                 values=['purchase_qty', 'sales_price'])\n",
    "    \n",
    "#     # Flatten and clean column names\n",
    "#     df_pivot.columns = [f\"{col[0]}_{clean_column_name(col[1])}\" for col in df_pivot.columns]\n",
    "    \n",
    "#     # Sort index\n",
    "#     df_pivot = df_pivot.sort_index()\n",
    "    \n",
    "#     # Handle NaN and inf values\n",
    "#     df_pivot = df_pivot.replace([np.inf, -np.inf], np.finfo(np.float64).max)\n",
    "#     df_pivot = df_pivot.interpolate()\n",
    "#     df_pivot = df_pivot.dropna()\n",
    "    \n",
    "#     print(f\"Final shape after processing: {df_pivot.shape}\")\n",
    "#     print(f\"Columns: {df_pivot.columns.tolist()}\")\n",
    "    \n",
    "#     return df_pivot"
   ]
  },
  {
   "cell_type": "code",
   "execution_count": null,
   "metadata": {},
   "outputs": [],
   "source": [
    "# Fit ARIMA models and forecast for each column\n",
    "forecasts = {}\n",
    "rmse_results = {}\n",
    "\n",
    "# Use only columns that exist in both train and test datasets\n",
    "common_columns = train.columns.intersection(test.columns)\n",
    "\n",
    "for column in common_columns:\n",
    "    print(f\"Fitting ARIMA model for {column}\")\n",
    "    forecast = fit_arima_and_forecast(train[column], steps=len(test))\n",
    "    forecasts[column] = forecast\n",
    "    rmse = sqrt(mean_squared_error(test[column], forecast))\n",
    "    rmse_results[column] = rmse\n"
   ]
  },
  {
   "cell_type": "code",
   "execution_count": null,
   "metadata": {},
   "outputs": [],
   "source": [
    "# Create a DataFrame with all forecasts\n",
    "forecast_df = pd.DataFrame(forecasts, index=test.index)\n",
    "\n",
    "print(\"\\nRMSE for each variable:\")\n",
    "for column, rmse in rmse_results.items():\n",
    "    print(f\"{column}: {rmse}\")"
   ]
  },
  {
   "cell_type": "code",
   "execution_count": null,
   "metadata": {},
   "outputs": [],
   "source": [
    "# Plot results for each category\n",
    "import matplotlib.pyplot as plt\n",
    "\n",
    "categories = df['category'].unique()\n",
    "n_categories = len(categories)\n",
    "fig, axes = plt.subplots(n_categories, 2, figsize=(20, 7*n_categories))\n",
    "\n",
    "for i, category in enumerate(categories):\n",
    "    qty_col = f'purchase_qty_{clean_column_name(category)}'\n",
    "    price_col = f'sales_price_{clean_column_name(category)}'\n",
    "    \n",
    "    if qty_col in common_columns:\n",
    "        axes[i, 0].plot(train.index, train[qty_col], label='Train')\n",
    "        axes[i, 0].plot(test.index, test[qty_col], label='Test')\n",
    "        axes[i, 0].plot(forecast_df.index, forecast_df[qty_col], color='red', label='Forecast')\n",
    "        axes[i, 0].set_title(f'{category} - Purchase Quantity')\n",
    "        axes[i, 0].legend()\n",
    "        axes[i, 0].set_xlabel('Date')\n",
    "        axes[i, 0].set_ylabel('Quantity')\n",
    "    \n",
    "    if price_col in common_columns:\n",
    "        axes[i, 1].plot(train.index, train[price_col], label='Train')\n",
    "        axes[i, 1].plot(test.index, test[price_col], label='Test')\n",
    "        axes[i, 1].plot(forecast_df.index, forecast_df[price_col], color='red', label='Forecast')\n",
    "        axes[i, 1].set_title(f'{category} - Sales Price')\n",
    "        axes[i, 1].legend()\n",
    "        axes[i, 1].set_xlabel('Date')\n",
    "        axes[i, 1].set_ylabel('Price')\n",
    "\n",
    "plt.tight_layout()\n",
    "plt.show()"
   ]
  }
 ],
 "metadata": {
  "language_info": {
   "name": "python"
  }
 },
 "nbformat": 4,
 "nbformat_minor": 2
}
